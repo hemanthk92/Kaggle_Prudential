{
 "cells": [
  {
   "cell_type": "code",
   "execution_count": 1,
   "metadata": {
    "collapsed": false
   },
   "outputs": [
    {
     "name": "stdout",
     "output_type": "stream",
     "text": [
      "/Users/crupley/DS/projects/kaggle/prudential\n"
     ]
    }
   ],
   "source": [
    "cd .."
   ]
  },
  {
   "cell_type": "code",
   "execution_count": 149,
   "metadata": {
    "collapsed": true
   },
   "outputs": [],
   "source": [
    "%matplotlib inline\n",
    "\n",
    "import numpy as np\n",
    "import pandas as pd\n",
    "import matplotlib.pyplot as plt\n",
    "\n",
    "from sklearn.ensemble import RandomForestClassifier\n",
    "from sklearn.naive_bayes import MultinomialNB\n",
    "from sklearn.ensemble import AdaBoostClassifier\n",
    "\n",
    "from sklearn.decomposition import NMF\n",
    "from sklearn.cross_validation import cross_val_score\n",
    "from sklearn.grid_search import GridSearchCV\n",
    "\n",
    "\n",
    "import xgboost as xgb"
   ]
  },
  {
   "cell_type": "markdown",
   "metadata": {},
   "source": [
    "# load data"
   ]
  },
  {
   "cell_type": "code",
   "execution_count": 58,
   "metadata": {
    "collapsed": false
   },
   "outputs": [
    {
     "name": "stdout",
     "output_type": "stream",
     "text": [
      "(59381, 127)\n",
      "(59381,)\n"
     ]
    }
   ],
   "source": [
    "train = pd.read_csv('data/train.csv')\n",
    "y = train.pop('Response')\n",
    "split = train.shape[0]\n",
    "print train.shape\n",
    "print y.shape"
   ]
  },
  {
   "cell_type": "code",
   "execution_count": 59,
   "metadata": {
    "collapsed": false
   },
   "outputs": [
    {
     "name": "stdout",
     "output_type": "stream",
     "text": [
      "(19765, 127)\n"
     ]
    }
   ],
   "source": [
    "test = pd.read_csv('data/test.csv')\n",
    "print test.shape"
   ]
  },
  {
   "cell_type": "code",
   "execution_count": 60,
   "metadata": {
    "collapsed": false
   },
   "outputs": [
    {
     "data": {
      "text/plain": [
       "(79146, 126)"
      ]
     },
     "execution_count": 60,
     "metadata": {},
     "output_type": "execute_result"
    }
   ],
   "source": [
    "df = pd.concat((train, test))\n",
    "df.set_index('Id', inplace=True)\n",
    "df.shape"
   ]
  },
  {
   "cell_type": "code",
   "execution_count": 61,
   "metadata": {
    "collapsed": false,
    "scrolled": false
   },
   "outputs": [
    {
     "name": "stdout",
     "output_type": "stream",
     "text": [
      "<class 'pandas.core.frame.DataFrame'>\n",
      "Int64Index: 79146 entries, 2 to 79129\n",
      "Columns: 126 entries, Product_Info_1 to Medical_Keyword_48\n",
      "dtypes: float64(18), int64(107), object(1)\n",
      "memory usage: 76.7+ MB\n"
     ]
    }
   ],
   "source": [
    "df.info()"
   ]
  },
  {
   "cell_type": "markdown",
   "metadata": {},
   "source": [
    "# clean"
   ]
  },
  {
   "cell_type": "code",
   "execution_count": 62,
   "metadata": {
    "collapsed": false
   },
   "outputs": [
    {
     "name": "stdout",
     "output_type": "stream",
     "text": [
      "60\n"
     ]
    },
    {
     "data": {
      "text/plain": [
       "['Product_Info_1',\n",
       " 'Product_Info_2',\n",
       " 'Product_Info_3',\n",
       " 'Product_Info_5',\n",
       " 'Product_Info_6']"
      ]
     },
     "execution_count": 62,
     "metadata": {},
     "output_type": "execute_result"
    }
   ],
   "source": [
    "# categorical\n",
    "ccol = 'Product_Info_1, Product_Info_2, Product_Info_3, Product_Info_5, Product_Info_6, Product_Info_7, Employment_Info_2, Employment_Info_3, Employment_Info_5, InsuredInfo_1, InsuredInfo_2, InsuredInfo_3, InsuredInfo_4, InsuredInfo_5, InsuredInfo_6, InsuredInfo_7, Insurance_History_1, Insurance_History_2, Insurance_History_3, Insurance_History_4, Insurance_History_7, Insurance_History_8, Insurance_History_9, Family_Hist_1, Medical_History_2, Medical_History_3, Medical_History_4, Medical_History_5, Medical_History_6, Medical_History_7, Medical_History_8, Medical_History_9, Medical_History_11, Medical_History_12, Medical_History_13, Medical_History_14, Medical_History_16, Medical_History_17, Medical_History_18, Medical_History_19, Medical_History_20, Medical_History_21, Medical_History_22, Medical_History_23, Medical_History_25, Medical_History_26, Medical_History_27, Medical_History_28, Medical_History_29, Medical_History_30, Medical_History_31, Medical_History_33, Medical_History_34, Medical_History_35, Medical_History_36, Medical_History_37, Medical_History_38, Medical_History_39, Medical_History_40, Medical_History_41'.split(', ')\n",
    "print len(ccol)\n",
    "ccol[:5]"
   ]
  },
  {
   "cell_type": "code",
   "execution_count": 63,
   "metadata": {
    "collapsed": false
   },
   "outputs": [
    {
     "name": "stdout",
     "output_type": "stream",
     "text": [
      "(79146, 1012)\n"
     ]
    }
   ],
   "source": [
    "df = pd.get_dummies(df, dummy_na=True, columns=ccol)\n",
    "print df.shape"
   ]
  },
  {
   "cell_type": "code",
   "execution_count": 64,
   "metadata": {
    "collapsed": false
   },
   "outputs": [
    {
     "name": "stdout",
     "output_type": "stream",
     "text": [
      "<class 'pandas.core.frame.DataFrame'>\n",
      "Int64Index: 79146 entries, 2 to 79129\n",
      "Columns: 1012 entries, Product_Info_4 to Medical_History_41_nan\n",
      "dtypes: float64(964), int64(48)\n",
      "memory usage: 611.7 MB\n"
     ]
    }
   ],
   "source": [
    "df.info()"
   ]
  },
  {
   "cell_type": "code",
   "execution_count": 144,
   "metadata": {
    "collapsed": false
   },
   "outputs": [
    {
     "name": "stdout",
     "output_type": "stream",
     "text": [
      "(59381, 1012)\n",
      "(19765, 1012)\n"
     ]
    }
   ],
   "source": [
    "trainX = df[:split]\n",
    "trainX = trainX.fillna(trainX.mean(axis=0))\n",
    "testX = df[split:]\n",
    "testX = testX.fillna(trainX.mean(axis=0))\n",
    "print trainX.shape\n",
    "print testX.shape"
   ]
  },
  {
   "cell_type": "code",
   "execution_count": 177,
   "metadata": {
    "collapsed": false
   },
   "outputs": [
    {
     "data": {
      "text/plain": [
       "Medical_History_10         58824\n",
       "Medical_History_32         58274\n",
       "Medical_History_24         55580\n",
       "Medical_History_15         44596\n",
       "Family_Hist_5              41811\n",
       "Family_Hist_3              34241\n",
       "Family_Hist_2              28656\n",
       "Insurance_History_5        25396\n",
       "Family_Hist_4              19184\n",
       "Employment_Info_6          10854\n",
       "Medical_History_1           8889\n",
       "Employment_Info_4           6779\n",
       "Employment_Info_1             19\n",
       "Medical_History_2_101.0        0\n",
       "Medical_History_2_99.0         0\n",
       "Medical_History_2_98.0         0\n",
       "Medical_History_2_97.0         0\n",
       "Medical_History_2_96.0         0\n",
       "Medical_History_2_95.0         0\n",
       "Medical_History_2_100.0        0\n",
       "Medical_History_41_nan         0\n",
       "Medical_History_2_102.0        0\n",
       "Medical_History_2_93.0         0\n",
       "Medical_History_2_103.0        0\n",
       "Medical_History_2_104.0        0\n",
       "Medical_History_2_105.0        0\n",
       "Medical_History_2_106.0        0\n",
       "Medical_History_2_94.0         0\n",
       "Medical_History_2_86.0         0\n",
       "Medical_History_2_92.0         0\n",
       "                           ...  \n",
       "Medical_History_2_435.0        0\n",
       "Medical_History_2_436.0        0\n",
       "Medical_History_2_464.0        0\n",
       "Medical_History_2_463.0        0\n",
       "Medical_History_2_462.0        0\n",
       "Medical_History_2_461.0        0\n",
       "Medical_History_2_459.0        0\n",
       "Medical_History_2_458.0        0\n",
       "Medical_History_2_457.0        0\n",
       "Medical_History_2_456.0        0\n",
       "Medical_History_2_455.0        0\n",
       "Medical_History_2_454.0        0\n",
       "Medical_History_2_453.0        0\n",
       "Medical_History_2_452.0        0\n",
       "Medical_History_2_451.0        0\n",
       "Medical_History_2_450.0        0\n",
       "Medical_History_2_449.0        0\n",
       "Medical_History_2_448.0        0\n",
       "Medical_History_2_447.0        0\n",
       "Medical_History_2_446.0        0\n",
       "Medical_History_2_445.0        0\n",
       "Medical_History_2_444.0        0\n",
       "Medical_History_2_443.0        0\n",
       "Medical_History_2_442.0        0\n",
       "Medical_History_2_441.0        0\n",
       "Medical_History_2_440.0        0\n",
       "Medical_History_2_439.0        0\n",
       "Medical_History_2_438.0        0\n",
       "Medical_History_2_437.0        0\n",
       "Product_Info_4                 0\n",
       "dtype: int64"
      ]
     },
     "execution_count": 177,
     "metadata": {},
     "output_type": "execute_result"
    }
   ],
   "source": [
    "empties = df[:split].isnull().sum().sort_values(ascending=False)\n",
    "empties"
   ]
  },
  {
   "cell_type": "code",
   "execution_count": 173,
   "metadata": {
    "collapsed": false
   },
   "outputs": [
    {
     "data": {
      "text/plain": [
       "1012"
      ]
     },
     "execution_count": 173,
     "metadata": {},
     "output_type": "execute_result"
    }
   ],
   "source": []
  },
  {
   "cell_type": "markdown",
   "metadata": {},
   "source": [
    "# train model"
   ]
  },
  {
   "cell_type": "markdown",
   "metadata": {},
   "source": [
    "## random forest"
   ]
  },
  {
   "cell_type": "code",
   "execution_count": 184,
   "metadata": {
    "collapsed": false
   },
   "outputs": [
    {
     "name": "stdout",
     "output_type": "stream",
     "text": [
      "0.508832791634\n",
      "CPU times: user 2min 37s, sys: 7.13 s, total: 2min 44s\n",
      "Wall time: 1min 31s\n"
     ]
    }
   ],
   "source": [
    "%%time\n",
    "rf = RandomForestClassifier(n_jobs=-1, oob_score=True, n_estimators=200, min_samples_leaf=5)\n",
    "rf.fit(trainX[empties.index[10:]], y)\n",
    "print rf.oob_score_"
   ]
  },
  {
   "cell_type": "code",
   "execution_count": 179,
   "metadata": {
    "collapsed": false
   },
   "outputs": [
    {
     "name": "stdout",
     "output_type": "stream",
     "text": [
      "[ 0.50979996  0.49944428  0.50482543]\n",
      "0.50468988711\n",
      "4.22877629664\n"
     ]
    }
   ],
   "source": [
    "cv = cross_val_score(rf, trainX[empties.index[10:]], y)\n",
    "print cv\n",
    "print np.mean(cv)\n",
    "print np.std(cv) * 1000"
   ]
  },
  {
   "cell_type": "code",
   "execution_count": 185,
   "metadata": {
    "collapsed": false,
    "scrolled": false
   },
   "outputs": [
    {
     "data": {
      "text/html": [
       "<div>\n",
       "<table border=\"1\" class=\"dataframe\">\n",
       "  <thead>\n",
       "    <tr style=\"text-align: right;\">\n",
       "      <th></th>\n",
       "      <th>feature</th>\n",
       "      <th>importance</th>\n",
       "    </tr>\n",
       "  </thead>\n",
       "  <tbody>\n",
       "    <tr>\n",
       "      <th>337</th>\n",
       "      <td>BMI</td>\n",
       "      <td>0.131454</td>\n",
       "    </tr>\n",
       "    <tr>\n",
       "      <th>338</th>\n",
       "      <td>Wt</td>\n",
       "      <td>0.094163</td>\n",
       "    </tr>\n",
       "    <tr>\n",
       "      <th>1001</th>\n",
       "      <td>Product_Info_4</td>\n",
       "      <td>0.049470</td>\n",
       "    </tr>\n",
       "    <tr>\n",
       "      <th>535</th>\n",
       "      <td>Medical_History_4_2.0</td>\n",
       "      <td>0.044420</td>\n",
       "    </tr>\n",
       "    <tr>\n",
       "      <th>536</th>\n",
       "      <td>Medical_History_4_1.0</td>\n",
       "      <td>0.038462</td>\n",
       "    </tr>\n",
       "    <tr>\n",
       "      <th>721</th>\n",
       "      <td>Medical_History_23_3.0</td>\n",
       "      <td>0.037326</td>\n",
       "    </tr>\n",
       "    <tr>\n",
       "      <th>723</th>\n",
       "      <td>Medical_History_23_1.0</td>\n",
       "      <td>0.036187</td>\n",
       "    </tr>\n",
       "    <tr>\n",
       "      <th>340</th>\n",
       "      <td>Ins_Age</td>\n",
       "      <td>0.035475</td>\n",
       "    </tr>\n",
       "    <tr>\n",
       "      <th>322</th>\n",
       "      <td>Medical_Keyword_15</td>\n",
       "      <td>0.027095</td>\n",
       "    </tr>\n",
       "    <tr>\n",
       "      <th>339</th>\n",
       "      <td>Ht</td>\n",
       "      <td>0.020765</td>\n",
       "    </tr>\n",
       "    <tr>\n",
       "      <th>2</th>\n",
       "      <td>Employment_Info_1</td>\n",
       "      <td>0.020496</td>\n",
       "    </tr>\n",
       "    <tr>\n",
       "      <th>0</th>\n",
       "      <td>Medical_History_1</td>\n",
       "      <td>0.018470</td>\n",
       "    </tr>\n",
       "    <tr>\n",
       "      <th>334</th>\n",
       "      <td>Medical_Keyword_3</td>\n",
       "      <td>0.015189</td>\n",
       "    </tr>\n",
       "    <tr>\n",
       "      <th>393</th>\n",
       "      <td>InsuredInfo_6_1.0</td>\n",
       "      <td>0.014396</td>\n",
       "    </tr>\n",
       "    <tr>\n",
       "      <th>392</th>\n",
       "      <td>InsuredInfo_6_2.0</td>\n",
       "      <td>0.014375</td>\n",
       "    </tr>\n",
       "    <tr>\n",
       "      <th>667</th>\n",
       "      <td>Medical_History_39_1.0</td>\n",
       "      <td>0.011849</td>\n",
       "    </tr>\n",
       "    <tr>\n",
       "      <th>665</th>\n",
       "      <td>Medical_History_39_3.0</td>\n",
       "      <td>0.010499</td>\n",
       "    </tr>\n",
       "    <tr>\n",
       "      <th>310</th>\n",
       "      <td>Product_Info_2_A7</td>\n",
       "      <td>0.010181</td>\n",
       "    </tr>\n",
       "    <tr>\n",
       "      <th>1</th>\n",
       "      <td>Employment_Info_4</td>\n",
       "      <td>0.008338</td>\n",
       "    </tr>\n",
       "    <tr>\n",
       "      <th>421</th>\n",
       "      <td>Family_Hist_1_2.0</td>\n",
       "      <td>0.007022</td>\n",
       "    </tr>\n",
       "    <tr>\n",
       "      <th>268</th>\n",
       "      <td>Product_Info_2_D4</td>\n",
       "      <td>0.006743</td>\n",
       "    </tr>\n",
       "    <tr>\n",
       "      <th>420</th>\n",
       "      <td>Family_Hist_1_3.0</td>\n",
       "      <td>0.006658</td>\n",
       "    </tr>\n",
       "    <tr>\n",
       "      <th>269</th>\n",
       "      <td>Product_Info_2_D3</td>\n",
       "      <td>0.005912</td>\n",
       "    </tr>\n",
       "    <tr>\n",
       "      <th>456</th>\n",
       "      <td>Employment_Info_2_9.0</td>\n",
       "      <td>0.005869</td>\n",
       "    </tr>\n",
       "    <tr>\n",
       "      <th>271</th>\n",
       "      <td>Product_Info_2_D1</td>\n",
       "      <td>0.005578</td>\n",
       "    </tr>\n",
       "    <tr>\n",
       "      <th>628</th>\n",
       "      <td>Medical_History_33_1.0</td>\n",
       "      <td>0.005276</td>\n",
       "    </tr>\n",
       "    <tr>\n",
       "      <th>435</th>\n",
       "      <td>InsuredInfo_3_8.0</td>\n",
       "      <td>0.004831</td>\n",
       "    </tr>\n",
       "    <tr>\n",
       "      <th>634</th>\n",
       "      <td>Medical_History_30_3.0</td>\n",
       "      <td>0.004787</td>\n",
       "    </tr>\n",
       "    <tr>\n",
       "      <th>635</th>\n",
       "      <td>Medical_History_30_2.0</td>\n",
       "      <td>0.004730</td>\n",
       "    </tr>\n",
       "    <tr>\n",
       "      <th>720</th>\n",
       "      <td>Medical_History_16_3.0</td>\n",
       "      <td>0.004711</td>\n",
       "    </tr>\n",
       "    <tr>\n",
       "      <th>...</th>\n",
       "      <td>...</td>\n",
       "      <td>...</td>\n",
       "    </tr>\n",
       "    <tr>\n",
       "      <th>488</th>\n",
       "      <td>Employment_Info_2_38.0</td>\n",
       "      <td>0.000000</td>\n",
       "    </tr>\n",
       "    <tr>\n",
       "      <th>491</th>\n",
       "      <td>Employment_Info_2_35.0</td>\n",
       "      <td>0.000000</td>\n",
       "    </tr>\n",
       "    <tr>\n",
       "      <th>492</th>\n",
       "      <td>Employment_Info_2_34.0</td>\n",
       "      <td>0.000000</td>\n",
       "    </tr>\n",
       "    <tr>\n",
       "      <th>493</th>\n",
       "      <td>Employment_Info_2_33.0</td>\n",
       "      <td>0.000000</td>\n",
       "    </tr>\n",
       "    <tr>\n",
       "      <th>495</th>\n",
       "      <td>Medical_History_2_267.0</td>\n",
       "      <td>0.000000</td>\n",
       "    </tr>\n",
       "    <tr>\n",
       "      <th>448</th>\n",
       "      <td>Employment_Info_2_17.0</td>\n",
       "      <td>0.000000</td>\n",
       "    </tr>\n",
       "    <tr>\n",
       "      <th>447</th>\n",
       "      <td>Employment_Info_2_18.0</td>\n",
       "      <td>0.000000</td>\n",
       "    </tr>\n",
       "    <tr>\n",
       "      <th>446</th>\n",
       "      <td>Employment_Info_2_19.0</td>\n",
       "      <td>0.000000</td>\n",
       "    </tr>\n",
       "    <tr>\n",
       "      <th>419</th>\n",
       "      <td>Family_Hist_1_nan</td>\n",
       "      <td>0.000000</td>\n",
       "    </tr>\n",
       "    <tr>\n",
       "      <th>407</th>\n",
       "      <td>Medical_History_2_12.0</td>\n",
       "      <td>0.000000</td>\n",
       "    </tr>\n",
       "    <tr>\n",
       "      <th>408</th>\n",
       "      <td>Medical_History_2_11.0</td>\n",
       "      <td>0.000000</td>\n",
       "    </tr>\n",
       "    <tr>\n",
       "      <th>409</th>\n",
       "      <td>Medical_History_2_10.0</td>\n",
       "      <td>0.000000</td>\n",
       "    </tr>\n",
       "    <tr>\n",
       "      <th>410</th>\n",
       "      <td>Medical_History_2_9.0</td>\n",
       "      <td>0.000000</td>\n",
       "    </tr>\n",
       "    <tr>\n",
       "      <th>413</th>\n",
       "      <td>Medical_History_2_6.0</td>\n",
       "      <td>0.000000</td>\n",
       "    </tr>\n",
       "    <tr>\n",
       "      <th>414</th>\n",
       "      <td>Medical_History_2_5.0</td>\n",
       "      <td>0.000000</td>\n",
       "    </tr>\n",
       "    <tr>\n",
       "      <th>415</th>\n",
       "      <td>Medical_History_2_4.0</td>\n",
       "      <td>0.000000</td>\n",
       "    </tr>\n",
       "    <tr>\n",
       "      <th>417</th>\n",
       "      <td>Medical_History_2_2.0</td>\n",
       "      <td>0.000000</td>\n",
       "    </tr>\n",
       "    <tr>\n",
       "      <th>418</th>\n",
       "      <td>Medical_History_2_1.0</td>\n",
       "      <td>0.000000</td>\n",
       "    </tr>\n",
       "    <tr>\n",
       "      <th>423</th>\n",
       "      <td>Insurance_History_9_nan</td>\n",
       "      <td>0.000000</td>\n",
       "    </tr>\n",
       "    <tr>\n",
       "      <th>445</th>\n",
       "      <td>Employment_Info_2_20.0</td>\n",
       "      <td>0.000000</td>\n",
       "    </tr>\n",
       "    <tr>\n",
       "      <th>427</th>\n",
       "      <td>Insurance_History_8_nan</td>\n",
       "      <td>0.000000</td>\n",
       "    </tr>\n",
       "    <tr>\n",
       "      <th>431</th>\n",
       "      <td>Insurance_History_7_nan</td>\n",
       "      <td>0.000000</td>\n",
       "    </tr>\n",
       "    <tr>\n",
       "      <th>434</th>\n",
       "      <td>InsuredInfo_3_9.0</td>\n",
       "      <td>0.000000</td>\n",
       "    </tr>\n",
       "    <tr>\n",
       "      <th>439</th>\n",
       "      <td>Employment_Info_2_26.0</td>\n",
       "      <td>0.000000</td>\n",
       "    </tr>\n",
       "    <tr>\n",
       "      <th>440</th>\n",
       "      <td>Employment_Info_2_25.0</td>\n",
       "      <td>0.000000</td>\n",
       "    </tr>\n",
       "    <tr>\n",
       "      <th>441</th>\n",
       "      <td>Employment_Info_2_24.0</td>\n",
       "      <td>0.000000</td>\n",
       "    </tr>\n",
       "    <tr>\n",
       "      <th>442</th>\n",
       "      <td>Employment_Info_2_23.0</td>\n",
       "      <td>0.000000</td>\n",
       "    </tr>\n",
       "    <tr>\n",
       "      <th>443</th>\n",
       "      <td>Employment_Info_2_22.0</td>\n",
       "      <td>0.000000</td>\n",
       "    </tr>\n",
       "    <tr>\n",
       "      <th>444</th>\n",
       "      <td>Employment_Info_2_21.0</td>\n",
       "      <td>0.000000</td>\n",
       "    </tr>\n",
       "    <tr>\n",
       "      <th>501</th>\n",
       "      <td>Medical_History_2_625.0</td>\n",
       "      <td>0.000000</td>\n",
       "    </tr>\n",
       "  </tbody>\n",
       "</table>\n",
       "<p>1002 rows × 2 columns</p>\n",
       "</div>"
      ],
      "text/plain": [
       "                      feature  importance\n",
       "337                       BMI    0.131454\n",
       "338                        Wt    0.094163\n",
       "1001           Product_Info_4    0.049470\n",
       "535     Medical_History_4_2.0    0.044420\n",
       "536     Medical_History_4_1.0    0.038462\n",
       "721    Medical_History_23_3.0    0.037326\n",
       "723    Medical_History_23_1.0    0.036187\n",
       "340                   Ins_Age    0.035475\n",
       "322        Medical_Keyword_15    0.027095\n",
       "339                        Ht    0.020765\n",
       "2           Employment_Info_1    0.020496\n",
       "0           Medical_History_1    0.018470\n",
       "334         Medical_Keyword_3    0.015189\n",
       "393         InsuredInfo_6_1.0    0.014396\n",
       "392         InsuredInfo_6_2.0    0.014375\n",
       "667    Medical_History_39_1.0    0.011849\n",
       "665    Medical_History_39_3.0    0.010499\n",
       "310         Product_Info_2_A7    0.010181\n",
       "1           Employment_Info_4    0.008338\n",
       "421         Family_Hist_1_2.0    0.007022\n",
       "268         Product_Info_2_D4    0.006743\n",
       "420         Family_Hist_1_3.0    0.006658\n",
       "269         Product_Info_2_D3    0.005912\n",
       "456     Employment_Info_2_9.0    0.005869\n",
       "271         Product_Info_2_D1    0.005578\n",
       "628    Medical_History_33_1.0    0.005276\n",
       "435         InsuredInfo_3_8.0    0.004831\n",
       "634    Medical_History_30_3.0    0.004787\n",
       "635    Medical_History_30_2.0    0.004730\n",
       "720    Medical_History_16_3.0    0.004711\n",
       "...                       ...         ...\n",
       "488    Employment_Info_2_38.0    0.000000\n",
       "491    Employment_Info_2_35.0    0.000000\n",
       "492    Employment_Info_2_34.0    0.000000\n",
       "493    Employment_Info_2_33.0    0.000000\n",
       "495   Medical_History_2_267.0    0.000000\n",
       "448    Employment_Info_2_17.0    0.000000\n",
       "447    Employment_Info_2_18.0    0.000000\n",
       "446    Employment_Info_2_19.0    0.000000\n",
       "419         Family_Hist_1_nan    0.000000\n",
       "407    Medical_History_2_12.0    0.000000\n",
       "408    Medical_History_2_11.0    0.000000\n",
       "409    Medical_History_2_10.0    0.000000\n",
       "410     Medical_History_2_9.0    0.000000\n",
       "413     Medical_History_2_6.0    0.000000\n",
       "414     Medical_History_2_5.0    0.000000\n",
       "415     Medical_History_2_4.0    0.000000\n",
       "417     Medical_History_2_2.0    0.000000\n",
       "418     Medical_History_2_1.0    0.000000\n",
       "423   Insurance_History_9_nan    0.000000\n",
       "445    Employment_Info_2_20.0    0.000000\n",
       "427   Insurance_History_8_nan    0.000000\n",
       "431   Insurance_History_7_nan    0.000000\n",
       "434         InsuredInfo_3_9.0    0.000000\n",
       "439    Employment_Info_2_26.0    0.000000\n",
       "440    Employment_Info_2_25.0    0.000000\n",
       "441    Employment_Info_2_24.0    0.000000\n",
       "442    Employment_Info_2_23.0    0.000000\n",
       "443    Employment_Info_2_22.0    0.000000\n",
       "444    Employment_Info_2_21.0    0.000000\n",
       "501   Medical_History_2_625.0    0.000000\n",
       "\n",
       "[1002 rows x 2 columns]"
      ]
     },
     "execution_count": 185,
     "metadata": {},
     "output_type": "execute_result"
    }
   ],
   "source": [
    "fi = pd.DataFrame({'feature':trainX[empties.index[10:]].columns, 'importance':rf.feature_importances_})\n",
    "fisort = fi.sort_values('importance', ascending=False)\n",
    "fisort"
   ]
  },
  {
   "cell_type": "code",
   "execution_count": 162,
   "metadata": {
    "collapsed": false
   },
   "outputs": [
    {
     "data": {
      "text/html": [
       "<div>\n",
       "<table border=\"1\" class=\"dataframe\">\n",
       "  <thead>\n",
       "    <tr style=\"text-align: right;\">\n",
       "      <th></th>\n",
       "      <th>BMI</th>\n",
       "      <th>Wt</th>\n",
       "      <th>Product_Info_4</th>\n",
       "      <th>Ins_Age</th>\n",
       "      <th>Employment_Info_1</th>\n",
       "      <th>Medical_History_15</th>\n",
       "      <th>Ht</th>\n",
       "      <th>Employment_Info_6</th>\n",
       "      <th>Medical_History_1</th>\n",
       "      <th>Family_Hist_4</th>\n",
       "      <th>...</th>\n",
       "      <th>Medical_History_2_335.0</th>\n",
       "      <th>Employment_Info_5_2.0</th>\n",
       "      <th>Employment_Info_3_3.0</th>\n",
       "      <th>Medical_History_2_16.0</th>\n",
       "      <th>Employment_Info_5_3.0</th>\n",
       "      <th>Employment_Info_2_1.0</th>\n",
       "      <th>Medical_History_8_3.0</th>\n",
       "      <th>Medical_History_2_161.0</th>\n",
       "      <th>Product_Info_3_26.0</th>\n",
       "      <th>Medical_History_30_3.0</th>\n",
       "    </tr>\n",
       "    <tr>\n",
       "      <th>Id</th>\n",
       "      <th></th>\n",
       "      <th></th>\n",
       "      <th></th>\n",
       "      <th></th>\n",
       "      <th></th>\n",
       "      <th></th>\n",
       "      <th></th>\n",
       "      <th></th>\n",
       "      <th></th>\n",
       "      <th></th>\n",
       "      <th></th>\n",
       "      <th></th>\n",
       "      <th></th>\n",
       "      <th></th>\n",
       "      <th></th>\n",
       "      <th></th>\n",
       "      <th></th>\n",
       "      <th></th>\n",
       "      <th></th>\n",
       "      <th></th>\n",
       "      <th></th>\n",
       "    </tr>\n",
       "  </thead>\n",
       "  <tbody>\n",
       "    <tr>\n",
       "      <th>2</th>\n",
       "      <td>0.323008</td>\n",
       "      <td>0.148536</td>\n",
       "      <td>0.076923</td>\n",
       "      <td>0.641791</td>\n",
       "      <td>0.028</td>\n",
       "      <td>240.000000</td>\n",
       "      <td>0.581818</td>\n",
       "      <td>0.361469</td>\n",
       "      <td>4.000000</td>\n",
       "      <td>0.444890</td>\n",
       "      <td>...</td>\n",
       "      <td>0</td>\n",
       "      <td>0</td>\n",
       "      <td>0</td>\n",
       "      <td>0</td>\n",
       "      <td>1</td>\n",
       "      <td>0</td>\n",
       "      <td>0</td>\n",
       "      <td>0</td>\n",
       "      <td>0</td>\n",
       "      <td>0</td>\n",
       "    </tr>\n",
       "    <tr>\n",
       "      <th>5</th>\n",
       "      <td>0.272288</td>\n",
       "      <td>0.131799</td>\n",
       "      <td>0.076923</td>\n",
       "      <td>0.059701</td>\n",
       "      <td>0.000</td>\n",
       "      <td>0.000000</td>\n",
       "      <td>0.600000</td>\n",
       "      <td>0.001800</td>\n",
       "      <td>5.000000</td>\n",
       "      <td>0.084507</td>\n",
       "      <td>...</td>\n",
       "      <td>0</td>\n",
       "      <td>1</td>\n",
       "      <td>1</td>\n",
       "      <td>0</td>\n",
       "      <td>0</td>\n",
       "      <td>1</td>\n",
       "      <td>0</td>\n",
       "      <td>0</td>\n",
       "      <td>1</td>\n",
       "      <td>0</td>\n",
       "    </tr>\n",
       "    <tr>\n",
       "      <th>6</th>\n",
       "      <td>0.428780</td>\n",
       "      <td>0.288703</td>\n",
       "      <td>0.076923</td>\n",
       "      <td>0.029851</td>\n",
       "      <td>0.030</td>\n",
       "      <td>123.760974</td>\n",
       "      <td>0.745455</td>\n",
       "      <td>0.030000</td>\n",
       "      <td>10.000000</td>\n",
       "      <td>0.225352</td>\n",
       "      <td>...</td>\n",
       "      <td>0</td>\n",
       "      <td>1</td>\n",
       "      <td>0</td>\n",
       "      <td>0</td>\n",
       "      <td>0</td>\n",
       "      <td>0</td>\n",
       "      <td>0</td>\n",
       "      <td>0</td>\n",
       "      <td>1</td>\n",
       "      <td>0</td>\n",
       "    </tr>\n",
       "    <tr>\n",
       "      <th>7</th>\n",
       "      <td>0.352438</td>\n",
       "      <td>0.205021</td>\n",
       "      <td>0.487179</td>\n",
       "      <td>0.164179</td>\n",
       "      <td>0.042</td>\n",
       "      <td>123.760974</td>\n",
       "      <td>0.672727</td>\n",
       "      <td>0.200000</td>\n",
       "      <td>0.000000</td>\n",
       "      <td>0.352113</td>\n",
       "      <td>...</td>\n",
       "      <td>0</td>\n",
       "      <td>0</td>\n",
       "      <td>0</td>\n",
       "      <td>0</td>\n",
       "      <td>1</td>\n",
       "      <td>0</td>\n",
       "      <td>0</td>\n",
       "      <td>0</td>\n",
       "      <td>0</td>\n",
       "      <td>0</td>\n",
       "    </tr>\n",
       "    <tr>\n",
       "      <th>8</th>\n",
       "      <td>0.424046</td>\n",
       "      <td>0.234310</td>\n",
       "      <td>0.230769</td>\n",
       "      <td>0.417910</td>\n",
       "      <td>0.027</td>\n",
       "      <td>123.760974</td>\n",
       "      <td>0.654545</td>\n",
       "      <td>0.050000</td>\n",
       "      <td>7.962172</td>\n",
       "      <td>0.408451</td>\n",
       "      <td>...</td>\n",
       "      <td>0</td>\n",
       "      <td>1</td>\n",
       "      <td>0</td>\n",
       "      <td>0</td>\n",
       "      <td>0</td>\n",
       "      <td>0</td>\n",
       "      <td>0</td>\n",
       "      <td>0</td>\n",
       "      <td>1</td>\n",
       "      <td>0</td>\n",
       "    </tr>\n",
       "    <tr>\n",
       "      <th>10</th>\n",
       "      <td>0.364887</td>\n",
       "      <td>0.299163</td>\n",
       "      <td>0.230769</td>\n",
       "      <td>0.507463</td>\n",
       "      <td>0.325</td>\n",
       "      <td>123.760974</td>\n",
       "      <td>0.836364</td>\n",
       "      <td>1.000000</td>\n",
       "      <td>6.000000</td>\n",
       "      <td>0.507042</td>\n",
       "      <td>...</td>\n",
       "      <td>0</td>\n",
       "      <td>1</td>\n",
       "      <td>0</td>\n",
       "      <td>0</td>\n",
       "      <td>0</td>\n",
       "      <td>0</td>\n",
       "      <td>0</td>\n",
       "      <td>0</td>\n",
       "      <td>1</td>\n",
       "      <td>0</td>\n",
       "    </tr>\n",
       "    <tr>\n",
       "      <th>11</th>\n",
       "      <td>0.376587</td>\n",
       "      <td>0.173640</td>\n",
       "      <td>0.166194</td>\n",
       "      <td>0.373134</td>\n",
       "      <td>0.110</td>\n",
       "      <td>123.760974</td>\n",
       "      <td>0.581818</td>\n",
       "      <td>0.800000</td>\n",
       "      <td>5.000000</td>\n",
       "      <td>0.549296</td>\n",
       "      <td>...</td>\n",
       "      <td>0</td>\n",
       "      <td>0</td>\n",
       "      <td>1</td>\n",
       "      <td>0</td>\n",
       "      <td>1</td>\n",
       "      <td>1</td>\n",
       "      <td>0</td>\n",
       "      <td>0</td>\n",
       "      <td>0</td>\n",
       "      <td>0</td>\n",
       "    </tr>\n",
       "    <tr>\n",
       "      <th>14</th>\n",
       "      <td>0.571612</td>\n",
       "      <td>0.403766</td>\n",
       "      <td>0.076923</td>\n",
       "      <td>0.611940</td>\n",
       "      <td>0.120</td>\n",
       "      <td>123.760974</td>\n",
       "      <td>0.781818</td>\n",
       "      <td>1.000000</td>\n",
       "      <td>6.000000</td>\n",
       "      <td>0.444890</td>\n",
       "      <td>...</td>\n",
       "      <td>0</td>\n",
       "      <td>1</td>\n",
       "      <td>0</td>\n",
       "      <td>0</td>\n",
       "      <td>0</td>\n",
       "      <td>0</td>\n",
       "      <td>0</td>\n",
       "      <td>0</td>\n",
       "      <td>1</td>\n",
       "      <td>0</td>\n",
       "    </tr>\n",
       "    <tr>\n",
       "      <th>15</th>\n",
       "      <td>0.362643</td>\n",
       "      <td>0.184100</td>\n",
       "      <td>0.230769</td>\n",
       "      <td>0.522388</td>\n",
       "      <td>0.165</td>\n",
       "      <td>123.760974</td>\n",
       "      <td>0.618182</td>\n",
       "      <td>1.000000</td>\n",
       "      <td>4.000000</td>\n",
       "      <td>0.676056</td>\n",
       "      <td>...</td>\n",
       "      <td>0</td>\n",
       "      <td>1</td>\n",
       "      <td>0</td>\n",
       "      <td>1</td>\n",
       "      <td>0</td>\n",
       "      <td>0</td>\n",
       "      <td>0</td>\n",
       "      <td>0</td>\n",
       "      <td>1</td>\n",
       "      <td>0</td>\n",
       "    </tr>\n",
       "    <tr>\n",
       "      <th>16</th>\n",
       "      <td>0.587796</td>\n",
       "      <td>0.284519</td>\n",
       "      <td>0.076923</td>\n",
       "      <td>0.552239</td>\n",
       "      <td>0.025</td>\n",
       "      <td>123.760974</td>\n",
       "      <td>0.600000</td>\n",
       "      <td>0.050000</td>\n",
       "      <td>7.962172</td>\n",
       "      <td>0.444890</td>\n",
       "      <td>...</td>\n",
       "      <td>0</td>\n",
       "      <td>0</td>\n",
       "      <td>1</td>\n",
       "      <td>0</td>\n",
       "      <td>1</td>\n",
       "      <td>1</td>\n",
       "      <td>0</td>\n",
       "      <td>0</td>\n",
       "      <td>0</td>\n",
       "      <td>0</td>\n",
       "    </tr>\n",
       "    <tr>\n",
       "      <th>17</th>\n",
       "      <td>0.521668</td>\n",
       "      <td>0.309623</td>\n",
       "      <td>0.128205</td>\n",
       "      <td>0.537313</td>\n",
       "      <td>0.050</td>\n",
       "      <td>123.760974</td>\n",
       "      <td>0.690909</td>\n",
       "      <td>0.150000</td>\n",
       "      <td>1.000000</td>\n",
       "      <td>0.647887</td>\n",
       "      <td>...</td>\n",
       "      <td>0</td>\n",
       "      <td>1</td>\n",
       "      <td>0</td>\n",
       "      <td>0</td>\n",
       "      <td>0</td>\n",
       "      <td>0</td>\n",
       "      <td>0</td>\n",
       "      <td>0</td>\n",
       "      <td>1</td>\n",
       "      <td>0</td>\n",
       "    </tr>\n",
       "    <tr>\n",
       "      <th>18</th>\n",
       "      <td>0.455050</td>\n",
       "      <td>0.271967</td>\n",
       "      <td>0.230769</td>\n",
       "      <td>0.298507</td>\n",
       "      <td>0.090</td>\n",
       "      <td>8.000000</td>\n",
       "      <td>0.690909</td>\n",
       "      <td>1.000000</td>\n",
       "      <td>4.000000</td>\n",
       "      <td>0.352113</td>\n",
       "      <td>...</td>\n",
       "      <td>0</td>\n",
       "      <td>1</td>\n",
       "      <td>0</td>\n",
       "      <td>0</td>\n",
       "      <td>0</td>\n",
       "      <td>0</td>\n",
       "      <td>0</td>\n",
       "      <td>0</td>\n",
       "      <td>1</td>\n",
       "      <td>0</td>\n",
       "    </tr>\n",
       "    <tr>\n",
       "      <th>19</th>\n",
       "      <td>0.320784</td>\n",
       "      <td>0.163180</td>\n",
       "      <td>0.102564</td>\n",
       "      <td>0.567164</td>\n",
       "      <td>0.075</td>\n",
       "      <td>123.760974</td>\n",
       "      <td>0.618182</td>\n",
       "      <td>0.361469</td>\n",
       "      <td>5.000000</td>\n",
       "      <td>0.444890</td>\n",
       "      <td>...</td>\n",
       "      <td>0</td>\n",
       "      <td>1</td>\n",
       "      <td>0</td>\n",
       "      <td>0</td>\n",
       "      <td>0</td>\n",
       "      <td>0</td>\n",
       "      <td>0</td>\n",
       "      <td>1</td>\n",
       "      <td>1</td>\n",
       "      <td>0</td>\n",
       "    </tr>\n",
       "    <tr>\n",
       "      <th>20</th>\n",
       "      <td>0.507515</td>\n",
       "      <td>0.361925</td>\n",
       "      <td>0.487179</td>\n",
       "      <td>0.223881</td>\n",
       "      <td>0.100</td>\n",
       "      <td>1.000000</td>\n",
       "      <td>0.781818</td>\n",
       "      <td>0.075000</td>\n",
       "      <td>7.962172</td>\n",
       "      <td>0.338028</td>\n",
       "      <td>...</td>\n",
       "      <td>0</td>\n",
       "      <td>1</td>\n",
       "      <td>0</td>\n",
       "      <td>0</td>\n",
       "      <td>0</td>\n",
       "      <td>0</td>\n",
       "      <td>0</td>\n",
       "      <td>0</td>\n",
       "      <td>1</td>\n",
       "      <td>0</td>\n",
       "    </tr>\n",
       "    <tr>\n",
       "      <th>22</th>\n",
       "      <td>0.264648</td>\n",
       "      <td>0.142259</td>\n",
       "      <td>0.487179</td>\n",
       "      <td>0.328358</td>\n",
       "      <td>0.160</td>\n",
       "      <td>123.760974</td>\n",
       "      <td>0.636364</td>\n",
       "      <td>0.600000</td>\n",
       "      <td>1.000000</td>\n",
       "      <td>0.535211</td>\n",
       "      <td>...</td>\n",
       "      <td>0</td>\n",
       "      <td>1</td>\n",
       "      <td>0</td>\n",
       "      <td>0</td>\n",
       "      <td>0</td>\n",
       "      <td>0</td>\n",
       "      <td>0</td>\n",
       "      <td>0</td>\n",
       "      <td>1</td>\n",
       "      <td>0</td>\n",
       "    </tr>\n",
       "  </tbody>\n",
       "</table>\n",
       "<p>15 rows × 100 columns</p>\n",
       "</div>"
      ],
      "text/plain": [
       "         BMI        Wt  Product_Info_4   Ins_Age  Employment_Info_1  \\\n",
       "Id                                                                    \n",
       "2   0.323008  0.148536        0.076923  0.641791              0.028   \n",
       "5   0.272288  0.131799        0.076923  0.059701              0.000   \n",
       "6   0.428780  0.288703        0.076923  0.029851              0.030   \n",
       "7   0.352438  0.205021        0.487179  0.164179              0.042   \n",
       "8   0.424046  0.234310        0.230769  0.417910              0.027   \n",
       "10  0.364887  0.299163        0.230769  0.507463              0.325   \n",
       "11  0.376587  0.173640        0.166194  0.373134              0.110   \n",
       "14  0.571612  0.403766        0.076923  0.611940              0.120   \n",
       "15  0.362643  0.184100        0.230769  0.522388              0.165   \n",
       "16  0.587796  0.284519        0.076923  0.552239              0.025   \n",
       "17  0.521668  0.309623        0.128205  0.537313              0.050   \n",
       "18  0.455050  0.271967        0.230769  0.298507              0.090   \n",
       "19  0.320784  0.163180        0.102564  0.567164              0.075   \n",
       "20  0.507515  0.361925        0.487179  0.223881              0.100   \n",
       "22  0.264648  0.142259        0.487179  0.328358              0.160   \n",
       "\n",
       "    Medical_History_15        Ht  Employment_Info_6  Medical_History_1  \\\n",
       "Id                                                                       \n",
       "2           240.000000  0.581818           0.361469           4.000000   \n",
       "5             0.000000  0.600000           0.001800           5.000000   \n",
       "6           123.760974  0.745455           0.030000          10.000000   \n",
       "7           123.760974  0.672727           0.200000           0.000000   \n",
       "8           123.760974  0.654545           0.050000           7.962172   \n",
       "10          123.760974  0.836364           1.000000           6.000000   \n",
       "11          123.760974  0.581818           0.800000           5.000000   \n",
       "14          123.760974  0.781818           1.000000           6.000000   \n",
       "15          123.760974  0.618182           1.000000           4.000000   \n",
       "16          123.760974  0.600000           0.050000           7.962172   \n",
       "17          123.760974  0.690909           0.150000           1.000000   \n",
       "18            8.000000  0.690909           1.000000           4.000000   \n",
       "19          123.760974  0.618182           0.361469           5.000000   \n",
       "20            1.000000  0.781818           0.075000           7.962172   \n",
       "22          123.760974  0.636364           0.600000           1.000000   \n",
       "\n",
       "    Family_Hist_4           ...            Medical_History_2_335.0  \\\n",
       "Id                          ...                                      \n",
       "2        0.444890           ...                                  0   \n",
       "5        0.084507           ...                                  0   \n",
       "6        0.225352           ...                                  0   \n",
       "7        0.352113           ...                                  0   \n",
       "8        0.408451           ...                                  0   \n",
       "10       0.507042           ...                                  0   \n",
       "11       0.549296           ...                                  0   \n",
       "14       0.444890           ...                                  0   \n",
       "15       0.676056           ...                                  0   \n",
       "16       0.444890           ...                                  0   \n",
       "17       0.647887           ...                                  0   \n",
       "18       0.352113           ...                                  0   \n",
       "19       0.444890           ...                                  0   \n",
       "20       0.338028           ...                                  0   \n",
       "22       0.535211           ...                                  0   \n",
       "\n",
       "    Employment_Info_5_2.0  Employment_Info_3_3.0  Medical_History_2_16.0  \\\n",
       "Id                                                                         \n",
       "2                       0                      0                       0   \n",
       "5                       1                      1                       0   \n",
       "6                       1                      0                       0   \n",
       "7                       0                      0                       0   \n",
       "8                       1                      0                       0   \n",
       "10                      1                      0                       0   \n",
       "11                      0                      1                       0   \n",
       "14                      1                      0                       0   \n",
       "15                      1                      0                       1   \n",
       "16                      0                      1                       0   \n",
       "17                      1                      0                       0   \n",
       "18                      1                      0                       0   \n",
       "19                      1                      0                       0   \n",
       "20                      1                      0                       0   \n",
       "22                      1                      0                       0   \n",
       "\n",
       "    Employment_Info_5_3.0  Employment_Info_2_1.0  Medical_History_8_3.0  \\\n",
       "Id                                                                        \n",
       "2                       1                      0                      0   \n",
       "5                       0                      1                      0   \n",
       "6                       0                      0                      0   \n",
       "7                       1                      0                      0   \n",
       "8                       0                      0                      0   \n",
       "10                      0                      0                      0   \n",
       "11                      1                      1                      0   \n",
       "14                      0                      0                      0   \n",
       "15                      0                      0                      0   \n",
       "16                      1                      1                      0   \n",
       "17                      0                      0                      0   \n",
       "18                      0                      0                      0   \n",
       "19                      0                      0                      0   \n",
       "20                      0                      0                      0   \n",
       "22                      0                      0                      0   \n",
       "\n",
       "    Medical_History_2_161.0  Product_Info_3_26.0  Medical_History_30_3.0  \n",
       "Id                                                                        \n",
       "2                         0                    0                       0  \n",
       "5                         0                    1                       0  \n",
       "6                         0                    1                       0  \n",
       "7                         0                    0                       0  \n",
       "8                         0                    1                       0  \n",
       "10                        0                    1                       0  \n",
       "11                        0                    0                       0  \n",
       "14                        0                    1                       0  \n",
       "15                        0                    1                       0  \n",
       "16                        0                    0                       0  \n",
       "17                        0                    1                       0  \n",
       "18                        0                    1                       0  \n",
       "19                        1                    1                       0  \n",
       "20                        0                    1                       0  \n",
       "22                        0                    1                       0  \n",
       "\n",
       "[15 rows x 100 columns]"
      ]
     },
     "execution_count": 162,
     "metadata": {},
     "output_type": "execute_result"
    }
   ],
   "source": [
    "trainX[fisort.feature.values[:100]].head(15)"
   ]
  },
  {
   "cell_type": "code",
   "execution_count": 163,
   "metadata": {
    "collapsed": false
   },
   "outputs": [
    {
     "data": {
      "text/html": [
       "<div>\n",
       "<table border=\"1\" class=\"dataframe\">\n",
       "  <thead>\n",
       "    <tr style=\"text-align: right;\">\n",
       "      <th></th>\n",
       "      <th>BMI</th>\n",
       "      <th>Wt</th>\n",
       "      <th>Product_Info_4</th>\n",
       "      <th>Ins_Age</th>\n",
       "      <th>Employment_Info_1</th>\n",
       "      <th>Medical_History_15</th>\n",
       "      <th>Ht</th>\n",
       "      <th>Employment_Info_6</th>\n",
       "      <th>Medical_History_1</th>\n",
       "      <th>Family_Hist_4</th>\n",
       "    </tr>\n",
       "  </thead>\n",
       "  <tbody>\n",
       "    <tr>\n",
       "      <th>count</th>\n",
       "      <td>59381.000000</td>\n",
       "      <td>59381.000000</td>\n",
       "      <td>59381.000000</td>\n",
       "      <td>59381.000000</td>\n",
       "      <td>59381.000000</td>\n",
       "      <td>59381.000000</td>\n",
       "      <td>59381.000000</td>\n",
       "      <td>59381.000000</td>\n",
       "      <td>59381.000000</td>\n",
       "      <td>59381.000000</td>\n",
       "    </tr>\n",
       "    <tr>\n",
       "      <th>mean</th>\n",
       "      <td>0.469462</td>\n",
       "      <td>0.292587</td>\n",
       "      <td>0.328952</td>\n",
       "      <td>0.405567</td>\n",
       "      <td>0.077582</td>\n",
       "      <td>123.760974</td>\n",
       "      <td>0.707283</td>\n",
       "      <td>0.361469</td>\n",
       "      <td>7.962172</td>\n",
       "      <td>0.444890</td>\n",
       "    </tr>\n",
       "    <tr>\n",
       "      <th>std</th>\n",
       "      <td>0.122213</td>\n",
       "      <td>0.089037</td>\n",
       "      <td>0.282562</td>\n",
       "      <td>0.197190</td>\n",
       "      <td>0.082334</td>\n",
       "      <td>49.156795</td>\n",
       "      <td>0.074239</td>\n",
       "      <td>0.315993</td>\n",
       "      <td>12.013085</td>\n",
       "      <td>0.134119</td>\n",
       "    </tr>\n",
       "    <tr>\n",
       "      <th>min</th>\n",
       "      <td>0.000000</td>\n",
       "      <td>0.000000</td>\n",
       "      <td>0.000000</td>\n",
       "      <td>0.000000</td>\n",
       "      <td>0.000000</td>\n",
       "      <td>0.000000</td>\n",
       "      <td>0.000000</td>\n",
       "      <td>0.000000</td>\n",
       "      <td>0.000000</td>\n",
       "      <td>0.000000</td>\n",
       "    </tr>\n",
       "    <tr>\n",
       "      <th>25%</th>\n",
       "      <td>0.385517</td>\n",
       "      <td>0.225941</td>\n",
       "      <td>0.076923</td>\n",
       "      <td>0.238806</td>\n",
       "      <td>0.035000</td>\n",
       "      <td>123.760974</td>\n",
       "      <td>0.654545</td>\n",
       "      <td>0.100000</td>\n",
       "      <td>2.000000</td>\n",
       "      <td>0.380282</td>\n",
       "    </tr>\n",
       "    <tr>\n",
       "      <th>50%</th>\n",
       "      <td>0.451349</td>\n",
       "      <td>0.288703</td>\n",
       "      <td>0.230769</td>\n",
       "      <td>0.402985</td>\n",
       "      <td>0.060000</td>\n",
       "      <td>123.760974</td>\n",
       "      <td>0.709091</td>\n",
       "      <td>0.350000</td>\n",
       "      <td>5.000000</td>\n",
       "      <td>0.444890</td>\n",
       "    </tr>\n",
       "    <tr>\n",
       "      <th>75%</th>\n",
       "      <td>0.532858</td>\n",
       "      <td>0.345188</td>\n",
       "      <td>0.487179</td>\n",
       "      <td>0.567164</td>\n",
       "      <td>0.100000</td>\n",
       "      <td>123.760974</td>\n",
       "      <td>0.763636</td>\n",
       "      <td>0.500000</td>\n",
       "      <td>8.000000</td>\n",
       "      <td>0.492958</td>\n",
       "    </tr>\n",
       "    <tr>\n",
       "      <th>max</th>\n",
       "      <td>1.000000</td>\n",
       "      <td>1.000000</td>\n",
       "      <td>1.000000</td>\n",
       "      <td>1.000000</td>\n",
       "      <td>1.000000</td>\n",
       "      <td>240.000000</td>\n",
       "      <td>1.000000</td>\n",
       "      <td>1.000000</td>\n",
       "      <td>240.000000</td>\n",
       "      <td>0.943662</td>\n",
       "    </tr>\n",
       "  </tbody>\n",
       "</table>\n",
       "</div>"
      ],
      "text/plain": [
       "                BMI            Wt  Product_Info_4       Ins_Age  \\\n",
       "count  59381.000000  59381.000000    59381.000000  59381.000000   \n",
       "mean       0.469462      0.292587        0.328952      0.405567   \n",
       "std        0.122213      0.089037        0.282562      0.197190   \n",
       "min        0.000000      0.000000        0.000000      0.000000   \n",
       "25%        0.385517      0.225941        0.076923      0.238806   \n",
       "50%        0.451349      0.288703        0.230769      0.402985   \n",
       "75%        0.532858      0.345188        0.487179      0.567164   \n",
       "max        1.000000      1.000000        1.000000      1.000000   \n",
       "\n",
       "       Employment_Info_1  Medical_History_15            Ht  Employment_Info_6  \\\n",
       "count       59381.000000        59381.000000  59381.000000       59381.000000   \n",
       "mean            0.077582          123.760974      0.707283           0.361469   \n",
       "std             0.082334           49.156795      0.074239           0.315993   \n",
       "min             0.000000            0.000000      0.000000           0.000000   \n",
       "25%             0.035000          123.760974      0.654545           0.100000   \n",
       "50%             0.060000          123.760974      0.709091           0.350000   \n",
       "75%             0.100000          123.760974      0.763636           0.500000   \n",
       "max             1.000000          240.000000      1.000000           1.000000   \n",
       "\n",
       "       Medical_History_1  Family_Hist_4  \n",
       "count       59381.000000   59381.000000  \n",
       "mean            7.962172       0.444890  \n",
       "std            12.013085       0.134119  \n",
       "min             0.000000       0.000000  \n",
       "25%             2.000000       0.380282  \n",
       "50%             5.000000       0.444890  \n",
       "75%             8.000000       0.492958  \n",
       "max           240.000000       0.943662  "
      ]
     },
     "execution_count": 163,
     "metadata": {},
     "output_type": "execute_result"
    }
   ],
   "source": [
    "trainX[fisort.feature.values[:10]].describe()"
   ]
  },
  {
   "cell_type": "code",
   "execution_count": 70,
   "metadata": {
    "collapsed": false,
    "scrolled": true
   },
   "outputs": [
    {
     "data": {
      "text/plain": [
       "array([ 0.06302805,  0.11565726,  0.14619024, ...,  1.        ,\n",
       "        1.        ,  1.        ])"
      ]
     },
     "execution_count": 70,
     "metadata": {},
     "output_type": "execute_result"
    }
   ],
   "source": [
    "np.cumsum(fi['importance'].sort_values(ascending=False)).values"
   ]
  },
  {
   "cell_type": "code",
   "execution_count": 186,
   "metadata": {
    "collapsed": false
   },
   "outputs": [
    {
     "data": {
      "image/png": "[encoded data removed]",
      "text/plain": [
       "<matplotlib.figure.Figure at 0x144067890>"
      ]
     },
     "metadata": {},
     "output_type": "display_data"
    }
   ],
   "source": [
    "pd.scatter_matrix(trainX[fisort.feature.values[:10]], figsize=(16, 10))\n",
    "plt.show()"
   ]
  },
  {
   "cell_type": "code",
   "execution_count": 169,
   "metadata": {
    "collapsed": false
   },
   "outputs": [
    {
     "data": {
      "text/plain": [
       "(59381, 1012)"
      ]
     },
     "execution_count": 169,
     "metadata": {},
     "output_type": "execute_result"
    }
   ],
   "source": [
    "trainX.dropna().shape"
   ]
  },
  {
   "cell_type": "markdown",
   "metadata": {},
   "source": [
    "# g boost tree"
   ]
  },
  {
   "cell_type": "code",
   "execution_count": 86,
   "metadata": {
    "collapsed": false
   },
   "outputs": [
    {
     "data": {
      "text/plain": [
       "XGBClassifier(base_score=0.5, colsample_bytree=1, gamma=0, learning_rate=0.1,\n",
       "       max_delta_step=0, max_depth=3, min_child_weight=1, n_estimators=25,\n",
       "       nthread=-1, objective='multi:softprob', seed=0, silent=True,\n",
       "       subsample=1)"
      ]
     },
     "execution_count": 86,
     "metadata": {},
     "output_type": "execute_result"
    }
   ],
   "source": [
    "xg = xgb.XGBClassifier(n_estimators=25)\n",
    "xg.fit(trainX, y)"
   ]
  },
  {
   "cell_type": "code",
   "execution_count": 117,
   "metadata": {
    "collapsed": true
   },
   "outputs": [],
   "source": [
    "fsubset = fisort.feature.values[:]"
   ]
  },
  {
   "cell_type": "code",
   "execution_count": 101,
   "metadata": {
    "collapsed": false
   },
   "outputs": [
    {
     "name": "stdout",
     "output_type": "stream",
     "text": [
      "[ 0.54682764  0.54349803  0.54292355]\n",
      "0.544416407588\n",
      "1.72105486442\n",
      "CPU times: user 1min 20s, sys: 1.75 s, total: 1min 21s\n",
      "Wall time: 1min 22s\n"
     ]
    }
   ],
   "source": [
    "%%time\n",
    "cv = cross_val_score(xg, trainX[fsubset], y)\n",
    "print cv\n",
    "print np.mean(cv)\n",
    "print np.std(cv) * 1000"
   ]
  },
  {
   "cell_type": "code",
   "execution_count": 118,
   "metadata": {
    "collapsed": false
   },
   "outputs": [
    {
     "name": "stdout",
     "output_type": "stream",
     "text": [
      "{'n_estimators': 100}\n",
      "0.56883514929\n"
     ]
    },
    {
     "data": {
      "text/plain": [
       "[mean: 0.52965, std: 0.00312, params: {'n_estimators': 10},\n",
       " mean: 0.54499, std: 0.00170, params: {'n_estimators': 25},\n",
       " mean: 0.56884, std: 0.00150, params: {'n_estimators': 100}]"
      ]
     },
     "execution_count": 118,
     "metadata": {},
     "output_type": "execute_result"
    }
   ],
   "source": [
    "params = {'n_estimators' : [10, 25, 100]}\n",
    "gs = GridSearchCV(xg, params)\n",
    "gs.fit(trainX, y)\n",
    "print gs.best_params_\n",
    "print gs.best_score_\n",
    "gs.grid_scores_"
   ]
  },
  {
   "cell_type": "code",
   "execution_count": 145,
   "metadata": {
    "collapsed": true
   },
   "outputs": [],
   "source": [
    "xg = xgb.XGBClassifier(n_estimators=25, subsample=0.5, colsample_bytree=0.5)"
   ]
  },
  {
   "cell_type": "code",
   "execution_count": 146,
   "metadata": {
    "collapsed": false
   },
   "outputs": [
    {
     "name": "stdout",
     "output_type": "stream",
     "text": [
      "[ 0.55435442  0.54956047  0.54514678]\n",
      "0.549687223932\n",
      "3.76006801214\n",
      "CPU times: user 1min 14s, sys: 3.64 s, total: 1min 18s\n",
      "Wall time: 1min 20s\n"
     ]
    }
   ],
   "source": [
    "%%time\n",
    "cv = cross_val_score(xg, trainX[empties], y)\n",
    "print cv\n",
    "print np.mean(cv)\n",
    "print np.std(cv) * 1000"
   ]
  },
  {
   "cell_type": "code",
   "execution_count": 127,
   "metadata": {
    "collapsed": true
   },
   "outputs": [],
   "source": [
    "xg = xgb.XGBClassifier(n_estimators=200, subsample=0.5, colsample_bytree=0.5)"
   ]
  },
  {
   "cell_type": "code",
   "execution_count": 128,
   "metadata": {
    "collapsed": false
   },
   "outputs": [
    {
     "name": "stdout",
     "output_type": "stream",
     "text": [
      "[ 0.58400687  0.58169142  0.57849528]\n",
      "0.581397855783\n",
      "2.25965395812\n",
      "CPU times: user 8min 31s, sys: 8.61 s, total: 8min 39s\n",
      "Wall time: 8min 52s\n"
     ]
    }
   ],
   "source": [
    "%%time\n",
    "cv = cross_val_score(xg, trainX, y)\n",
    "print cv\n",
    "print np.mean(cv)\n",
    "print np.std(cv) * 1000"
   ]
  },
  {
   "cell_type": "code",
   "execution_count": 188,
   "metadata": {
    "collapsed": false
   },
   "outputs": [],
   "source": [
    "xg = xgb.XGBClassifier(n_estimators=1000, subsample=0.5, colsample_bytree=0.5)"
   ]
  },
  {
   "cell_type": "code",
   "execution_count": 135,
   "metadata": {
    "collapsed": false
   },
   "outputs": [
    {
     "name": "stdout",
     "output_type": "stream",
     "text": [
      "[ 0.59410992  0.58775386  0.58460917]\n",
      "0.588824317262\n",
      "3.9518341481\n",
      "CPU times: user 42min 7s, sys: 25.1 s, total: 42min 32s\n",
      "Wall time: 43min 30s\n"
     ]
    }
   ],
   "source": [
    "%%time\n",
    "cv = cross_val_score(xg, trainX, y)\n",
    "print cv\n",
    "print np.mean(cv)\n",
    "print np.std(cv) * 1000"
   ]
  },
  {
   "cell_type": "markdown",
   "metadata": {},
   "source": [
    "## adaboost"
   ]
  },
  {
   "cell_type": "code",
   "execution_count": 155,
   "metadata": {
    "collapsed": true
   },
   "outputs": [],
   "source": [
    "ab = AdaBoostClassifier(n_estimators=50)"
   ]
  },
  {
   "cell_type": "code",
   "execution_count": 153,
   "metadata": {
    "collapsed": false
   },
   "outputs": [
    {
     "name": "stdout",
     "output_type": "stream",
     "text": [
      "[ 0.51106284  0.49626149  0.51503209]\n",
      "0.507452139884\n",
      "8.0771963763\n",
      "CPU times: user 44.4 s, sys: 3.59 s, total: 48 s\n",
      "Wall time: 49.1 s\n"
     ]
    }
   ],
   "source": [
    "%%time\n",
    "cv = cross_val_score(ab, trainX, y)\n",
    "print cv\n",
    "print np.mean(cv)\n",
    "print np.std(cv) * 1000"
   ]
  },
  {
   "cell_type": "code",
   "execution_count": 157,
   "metadata": {
    "collapsed": false
   },
   "outputs": [
    {
     "name": "stdout",
     "output_type": "stream",
     "text": [
      "{'n_estimators': 50, 'learning_rate': 1.0}\n",
      "0.507451878547\n",
      "CPU times: user 6min 1s, sys: 37.5 s, total: 6min 38s\n",
      "Wall time: 7min\n"
     ]
    }
   ],
   "source": [
    "%%time\n",
    "params = {'learning_rate' : np.logspace(-3, 0, 4),\n",
    "          'n_estimators' : [10, 25, 50]}\n",
    "gs = GridSearchCV(ab, params)\n",
    "gs.fit(trainX, y)\n",
    "print gs.best_params_\n",
    "print gs.best_score_\n",
    "gs.grid_scores_"
   ]
  },
  {
   "cell_type": "code",
   "execution_count": 158,
   "metadata": {
    "collapsed": false
   },
   "outputs": [
    {
     "data": {
      "text/plain": [
       "[mean: 0.39839, std: 0.00182, params: {'n_estimators': 10, 'learning_rate': 0.001},\n",
       " mean: 0.39839, std: 0.00182, params: {'n_estimators': 25, 'learning_rate': 0.001},\n",
       " mean: 0.39796, std: 0.00133, params: {'n_estimators': 50, 'learning_rate': 0.001},\n",
       " mean: 0.39796, std: 0.00133, params: {'n_estimators': 10, 'learning_rate': 0.01},\n",
       " mean: 0.39819, std: 0.00164, params: {'n_estimators': 25, 'learning_rate': 0.01},\n",
       " mean: 0.40558, std: 0.00452, params: {'n_estimators': 50, 'learning_rate': 0.01},\n",
       " mean: 0.41956, std: 0.00207, params: {'n_estimators': 10, 'learning_rate': 0.10000000000000001},\n",
       " mean: 0.43874, std: 0.00085, params: {'n_estimators': 25, 'learning_rate': 0.10000000000000001},\n",
       " mean: 0.46951, std: 0.00885, params: {'n_estimators': 50, 'learning_rate': 0.10000000000000001},\n",
       " mean: 0.48889, std: 0.00557, params: {'n_estimators': 10, 'learning_rate': 1.0},\n",
       " mean: 0.49797, std: 0.00628, params: {'n_estimators': 25, 'learning_rate': 1.0},\n",
       " mean: 0.50745, std: 0.00808, params: {'n_estimators': 50, 'learning_rate': 1.0}]"
      ]
     },
     "execution_count": 158,
     "metadata": {},
     "output_type": "execute_result"
    }
   ],
   "source": [
    "gs.grid_scores_"
   ]
  },
  {
   "cell_type": "code",
   "execution_count": 155,
   "metadata": {
    "collapsed": true
   },
   "outputs": [],
   "source": [
    "ab = AdaBoostClassifier(n_estimators=50)"
   ]
  },
  {
   "cell_type": "code",
   "execution_count": 153,
   "metadata": {
    "collapsed": false
   },
   "outputs": [
    {
     "name": "stdout",
     "output_type": "stream",
     "text": [
      "[ 0.51106284  0.49626149  0.51503209]\n",
      "0.507452139884\n",
      "8.0771963763\n",
      "CPU times: user 44.4 s, sys: 3.59 s, total: 48 s\n",
      "Wall time: 49.1 s\n"
     ]
    }
   ],
   "source": [
    "%%time\n",
    "cv = cross_val_score(ab, trainX, y)\n",
    "print cv\n",
    "print np.mean(cv)\n",
    "print np.std(cv) * 1000"
   ]
  },
  {
   "cell_type": "markdown",
   "metadata": {},
   "source": [
    "# naive bayes"
   ]
  },
  {
   "cell_type": "code",
   "execution_count": 106,
   "metadata": {
    "collapsed": true
   },
   "outputs": [],
   "source": [
    "nb = MultinomialNB()"
   ]
  },
  {
   "cell_type": "code",
   "execution_count": 107,
   "metadata": {
    "collapsed": false
   },
   "outputs": [
    {
     "name": "stdout",
     "output_type": "stream",
     "text": [
      "[ 0.39907052  0.40214206  0.39987873]\n",
      "0.400363771769\n",
      "1.3000109482\n",
      "CPU times: user 3.19 s, sys: 3.35 s, total: 6.54 s\n",
      "Wall time: 7.25 s\n"
     ]
    }
   ],
   "source": [
    "%%time\n",
    "cv = cross_val_score(nb, trainX, y)\n",
    "print cv\n",
    "print np.mean(cv)\n",
    "print np.std(cv) * 1000"
   ]
  },
  {
   "cell_type": "code",
   "execution_count": 116,
   "metadata": {
    "collapsed": false
   },
   "outputs": [
    {
     "name": "stdout",
     "output_type": "stream",
     "text": [
      "[mean: 0.39720, std: 0.00096, params: {'alpha': 0.01}, mean: 0.39775, std: 0.00078, params: {'alpha': 0.10000000000000001}, mean: 0.40036, std: 0.00130, params: {'alpha': 1.0}, mean: 0.41439, std: 0.00252, params: {'alpha': 10.0}, mean: 0.38591, std: 0.00096, params: {'alpha': 100.0}]\n",
      "{'alpha': 10.0}\n",
      "0.414391808828\n"
     ]
    }
   ],
   "source": [
    "params = {'alpha' : np.logspace(-2, 2, 5)}\n",
    "gs = GridSearchCV(nb, params)\n",
    "gs.fit(trainX, y)\n",
    "print gs.best_params_\n",
    "print gs.best_score_\n",
    "gs.grid_scores_"
   ]
  },
  {
   "cell_type": "markdown",
   "metadata": {},
   "source": [
    "# make submission"
   ]
  },
  {
   "cell_type": "code",
   "execution_count": null,
   "metadata": {
    "collapsed": true
   },
   "outputs": [],
   "source": [
    "xg.fit(trainX, y)\n",
    "yhat = xg.predict(testX)\n",
    "result = pd.DataFrame({'Id' : testX.index.values, 'Response': yhat})\n",
    "result.to_csv('results/out.csv', index=False)"
   ]
  },
  {
   "cell_type": "markdown",
   "metadata": {},
   "source": [
    "## log\n",
    "\n",
    "* initial: xgb\n",
    "    * cv: 0.5345\n",
    "    * submission: 0.45091\n",
    "* fillna with mean, xgb\n",
    "    * cv: 0.5450\n",
    "* top features, xgb\n",
    "    * 100: cv: 0.5436\n",
    "    * 200: cv: 0.5444\n",
    "* xgb: 100, subsample, colsample\n",
    "    * cv: 0.5711\n",
    "    * submission: 0.53671\n",
    "* xgb: 200\n",
    "    * cv: 0.58139\n",
    "    * submission: 0.56030\n",
    "* xgb: 1000\n",
    "    * cv: 0.5888\n",
    "    * submission:\n",
    "* fix impute with train mean on both; xgb25\n",
    "    * baseline: 0.5497\n",
    "    * cv: 0.5497"
   ]
  }
 ],
 "metadata": {
  "kernelspec": {
   "display_name": "Python 2",
   "language": "python",
   "name": "python2"
  },
  "language_info": {
   "codemirror_mode": {
    "name": "ipython",
    "version": 2
   },
   "file_extension": ".py",
   "mimetype": "text/x-python",
   "name": "python",
   "nbconvert_exporter": "python",
   "pygments_lexer": "ipython2",
   "version": "2.7.11"
  }
 },
 "nbformat": 4,
 "nbformat_minor": 0
}
