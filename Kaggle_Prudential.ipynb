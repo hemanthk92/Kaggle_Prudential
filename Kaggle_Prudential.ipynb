{
 "cells": [
  {
   "cell_type": "code",
   "execution_count": 114,
   "metadata": {
    "collapsed": false
   },
   "outputs": [
    {
     "name": "stdout",
     "output_type": "stream",
     "text": [
      "Populating the interactive namespace from numpy and matplotlib\n"
     ]
    }
   ],
   "source": [
    "import pandas as pd\n",
    "import numpy as np\n",
    "import matplotlib.pyplot as plt\n",
    "%pylab inline\n",
    "from sklearn.ensemble import RandomForestClassifier\n",
    "from sklearn.grid_search import GridSearchCV"
   ]
  },
  {
   "cell_type": "code",
   "execution_count": 99,
   "metadata": {
    "collapsed": true
   },
   "outputs": [],
   "source": [
    "df = pd.read_csv('train.csv')"
   ]
  },
  {
   "cell_type": "code",
   "execution_count": 100,
   "metadata": {
    "collapsed": false
   },
   "outputs": [],
   "source": [
    "columns = 'Product_Info_1, Product_Info_2, Product_Info_3, Product_Info_5, Product_Info_6, Product_Info_7, Employment_Info_2, Employment_Info_3, Employment_Info_5, InsuredInfo_1, InsuredInfo_2, InsuredInfo_3, InsuredInfo_4, InsuredInfo_5, InsuredInfo_6, InsuredInfo_7, Insurance_History_1, Insurance_History_2, Insurance_History_3, Insurance_History_4, Insurance_History_7, Insurance_History_8, Insurance_History_9, Family_Hist_1, Medical_History_2, Medical_History_3, Medical_History_4, Medical_History_5, Medical_History_6, Medical_History_7, Medical_History_8, Medical_History_9, Medical_History_11, Medical_History_12, Medical_History_13, Medical_History_14, Medical_History_16, Medical_History_17, Medical_History_18, Medical_History_19, Medical_History_20, Medical_History_21, Medical_History_22, Medical_History_23, Medical_History_25, Medical_History_26, Medical_History_27, Medical_History_28, Medical_History_29, Medical_History_30, Medical_History_31, Medical_History_33, Medical_History_34, Medical_History_35, Medical_History_36, Medical_History_37, Medical_History_38, Medical_History_39, Medical_History_40, Medical_History_41'"
   ]
  },
  {
   "cell_type": "code",
   "execution_count": 101,
   "metadata": {
    "collapsed": false
   },
   "outputs": [],
   "source": [
    "columns = columns.split(', ')"
   ]
  },
  {
   "cell_type": "code",
   "execution_count": 102,
   "metadata": {
    "collapsed": false
   },
   "outputs": [],
   "source": [
    "for column in columns:\n",
    "    df_dummies = pd.get_dummies(df[column], prefix = column, dummy_na=True)\n",
    "    for name in df_dummies.columns:\n",
    "        if 'nan' not in name: \n",
    "            df_dummies.drop(name, axis=1, inplace=True)\n",
    "            break\n",
    "    df.drop(column,axis=1,inplace=True)\n",
    "    for name in df_dummies.columns:\n",
    "        df[name] = df_dummies[name]"
   ]
  },
  {
   "cell_type": "code",
   "execution_count": 103,
   "metadata": {
    "collapsed": false,
    "scrolled": true
   },
   "outputs": [],
   "source": [
    "column_check = df.isnull().any(axis=0)==True\n",
    "columns_of_missing_values = column_check[column_check == True].index.values.tolist()"
   ]
  },
  {
   "cell_type": "code",
   "execution_count": 69,
   "metadata": {
    "collapsed": false
   },
   "outputs": [
    {
     "name": "stdout",
     "output_type": "stream",
     "text": [
      "<class 'pandas.core.frame.DataFrame'>\n",
      "Int64Index: 59381 entries, 0 to 59380\n",
      "Columns: 897 entries, Id to Medical_History_41_nan\n",
      "dtypes: float64(847), int64(50)\n",
      "memory usage: 406.8 MB\n"
     ]
    }
   ],
   "source": [
    "df.info()"
   ]
  },
  {
   "cell_type": "code",
   "execution_count": 105,
   "metadata": {
    "collapsed": false
   },
   "outputs": [],
   "source": [
    "for column in columns_of_missing_values:\n",
    "    value = df[column].median()\n",
    "    df[column] = df[column].fillna(value)"
   ]
  },
  {
   "cell_type": "code",
   "execution_count": 106,
   "metadata": {
    "collapsed": false
   },
   "outputs": [
    {
     "data": {
      "text/plain": [
       "[]"
      ]
     },
     "execution_count": 106,
     "metadata": {},
     "output_type": "execute_result"
    }
   ],
   "source": [
    "column_check = df.isnull().any(axis=0)==True\n",
    "column_check[column_check == True].index.values.tolist()"
   ]
  },
  {
   "cell_type": "code",
   "execution_count": 107,
   "metadata": {
    "collapsed": false
   },
   "outputs": [],
   "source": [
    "y = df.pop('Response').values\n",
    "df.pop('Id')\n",
    "X = df.values"
   ]
  },
  {
   "cell_type": "code",
   "execution_count": 111,
   "metadata": {
    "collapsed": false
   },
   "outputs": [],
   "source": [
    "rf = RandomForestClassifier(oob_score=True,n_estimators=200)"
   ]
  },
  {
   "cell_type": "code",
   "execution_count": 112,
   "metadata": {
    "collapsed": false
   },
   "outputs": [
    {
     "data": {
      "text/plain": [
       "RandomForestClassifier(bootstrap=True, class_weight=None, criterion='gini',\n",
       "            max_depth=None, max_features='auto', max_leaf_nodes=None,\n",
       "            min_samples_leaf=1, min_samples_split=2,\n",
       "            min_weight_fraction_leaf=0.0, n_estimators=200, n_jobs=1,\n",
       "            oob_score=True, random_state=None, verbose=0, warm_start=False)"
      ]
     },
     "execution_count": 112,
     "metadata": {},
     "output_type": "execute_result"
    }
   ],
   "source": [
    "rf.fit(X, y)"
   ]
  },
  {
   "cell_type": "code",
   "execution_count": 113,
   "metadata": {
    "collapsed": false
   },
   "outputs": [
    {
     "data": {
      "text/plain": [
       "0.55068119432141593"
      ]
     },
     "execution_count": 113,
     "metadata": {},
     "output_type": "execute_result"
    }
   ],
   "source": [
    "rf.score(X, y)\n",
    "rf.oob_score_"
   ]
  },
  {
   "cell_type": "code",
   "execution_count": 83,
   "metadata": {
    "collapsed": false
   },
   "outputs": [],
   "source": [
    "d = {'features': df.columns, 'Importance': rf.feature_importances_}\n",
    "fi = pd.DataFrame(data=d)"
   ]
  },
  {
   "cell_type": "code",
   "execution_count": 84,
   "metadata": {
    "collapsed": false
   },
   "outputs": [
    {
     "name": "stderr",
     "output_type": "stream",
     "text": [
      "/Users/datascientist/anaconda2/lib/python2.7/site-packages/ipykernel/__main__.py:1: FutureWarning: sort(columns=....) is deprecated, use sort_values(by=.....)\n",
      "  if __name__ == '__main__':\n"
     ]
    },
    {
     "data": {
      "text/html": [
       "<div>\n",
       "<table border=\"1\" class=\"dataframe\">\n",
       "  <thead>\n",
       "    <tr style=\"text-align: right;\">\n",
       "      <th></th>\n",
       "      <th>Importance</th>\n",
       "      <th>features</th>\n",
       "    </tr>\n",
       "  </thead>\n",
       "  <tbody>\n",
       "    <tr>\n",
       "      <th>4</th>\n",
       "      <td>0.071030</td>\n",
       "      <td>BMI</td>\n",
       "    </tr>\n",
       "    <tr>\n",
       "      <th>3</th>\n",
       "      <td>0.054249</td>\n",
       "      <td>Wt</td>\n",
       "    </tr>\n",
       "    <tr>\n",
       "      <th>0</th>\n",
       "      <td>0.033050</td>\n",
       "      <td>Product_Info_4</td>\n",
       "    </tr>\n",
       "    <tr>\n",
       "      <th>1</th>\n",
       "      <td>0.032501</td>\n",
       "      <td>Ins_Age</td>\n",
       "    </tr>\n",
       "    <tr>\n",
       "      <th>5</th>\n",
       "      <td>0.030384</td>\n",
       "      <td>Employment_Info_1</td>\n",
       "    </tr>\n",
       "    <tr>\n",
       "      <th>2</th>\n",
       "      <td>0.028230</td>\n",
       "      <td>Ht</td>\n",
       "    </tr>\n",
       "    <tr>\n",
       "      <th>15</th>\n",
       "      <td>0.026393</td>\n",
       "      <td>Medical_History_15</td>\n",
       "    </tr>\n",
       "    <tr>\n",
       "      <th>7</th>\n",
       "      <td>0.025887</td>\n",
       "      <td>Employment_Info_6</td>\n",
       "    </tr>\n",
       "    <tr>\n",
       "      <th>13</th>\n",
       "      <td>0.025419</td>\n",
       "      <td>Medical_History_1</td>\n",
       "    </tr>\n",
       "    <tr>\n",
       "      <th>11</th>\n",
       "      <td>0.025306</td>\n",
       "      <td>Family_Hist_4</td>\n",
       "    </tr>\n",
       "    <tr>\n",
       "      <th>797</th>\n",
       "      <td>0.021992</td>\n",
       "      <td>Medical_History_4_2.0</td>\n",
       "    </tr>\n",
       "    <tr>\n",
       "      <th>10</th>\n",
       "      <td>0.021232</td>\n",
       "      <td>Family_Hist_3</td>\n",
       "    </tr>\n",
       "    <tr>\n",
       "      <th>9</th>\n",
       "      <td>0.020657</td>\n",
       "      <td>Family_Hist_2</td>\n",
       "    </tr>\n",
       "    <tr>\n",
       "      <th>8</th>\n",
       "      <td>0.018782</td>\n",
       "      <td>Insurance_History_5</td>\n",
       "    </tr>\n",
       "    <tr>\n",
       "      <th>847</th>\n",
       "      <td>0.018759</td>\n",
       "      <td>Medical_History_23_3.0</td>\n",
       "    </tr>\n",
       "    <tr>\n",
       "      <th>12</th>\n",
       "      <td>0.016689</td>\n",
       "      <td>Family_Hist_5</td>\n",
       "    </tr>\n",
       "    <tr>\n",
       "      <th>32</th>\n",
       "      <td>0.014149</td>\n",
       "      <td>Medical_Keyword_15</td>\n",
       "    </tr>\n",
       "    <tr>\n",
       "      <th>188</th>\n",
       "      <td>0.010224</td>\n",
       "      <td>InsuredInfo_6_2.0</td>\n",
       "    </tr>\n",
       "    <tr>\n",
       "      <th>179</th>\n",
       "      <td>0.008945</td>\n",
       "      <td>InsuredInfo_3_8.0</td>\n",
       "    </tr>\n",
       "    <tr>\n",
       "      <th>893</th>\n",
       "      <td>0.008770</td>\n",
       "      <td>Medical_History_41_3.0</td>\n",
       "    </tr>\n",
       "    <tr>\n",
       "      <th>6</th>\n",
       "      <td>0.008586</td>\n",
       "      <td>Employment_Info_4</td>\n",
       "    </tr>\n",
       "    <tr>\n",
       "      <th>134</th>\n",
       "      <td>0.008492</td>\n",
       "      <td>Employment_Info_2_9.0</td>\n",
       "    </tr>\n",
       "    <tr>\n",
       "      <th>174</th>\n",
       "      <td>0.008397</td>\n",
       "      <td>InsuredInfo_3_3.0</td>\n",
       "    </tr>\n",
       "    <tr>\n",
       "      <th>20</th>\n",
       "      <td>0.007424</td>\n",
       "      <td>Medical_Keyword_3</td>\n",
       "    </tr>\n",
       "    <tr>\n",
       "      <th>316</th>\n",
       "      <td>0.007403</td>\n",
       "      <td>Medical_History_2_112.0</td>\n",
       "    </tr>\n",
       "    <tr>\n",
       "      <th>177</th>\n",
       "      <td>0.007346</td>\n",
       "      <td>InsuredInfo_3_6.0</td>\n",
       "    </tr>\n",
       "    <tr>\n",
       "      <th>213</th>\n",
       "      <td>0.007329</td>\n",
       "      <td>Family_Hist_1_3.0</td>\n",
       "    </tr>\n",
       "    <tr>\n",
       "      <th>212</th>\n",
       "      <td>0.007309</td>\n",
       "      <td>Family_Hist_1_2.0</td>\n",
       "    </tr>\n",
       "    <tr>\n",
       "      <th>811</th>\n",
       "      <td>0.007288</td>\n",
       "      <td>Medical_History_9_2.0</td>\n",
       "    </tr>\n",
       "    <tr>\n",
       "      <th>83</th>\n",
       "      <td>0.007072</td>\n",
       "      <td>Product_Info_2_D3</td>\n",
       "    </tr>\n",
       "    <tr>\n",
       "      <th>...</th>\n",
       "      <td>...</td>\n",
       "      <td>...</td>\n",
       "    </tr>\n",
       "    <tr>\n",
       "      <th>197</th>\n",
       "      <td>0.000000</td>\n",
       "      <td>Insurance_History_3_2.0</td>\n",
       "    </tr>\n",
       "    <tr>\n",
       "      <th>782</th>\n",
       "      <td>0.000000</td>\n",
       "      <td>Medical_History_2_638.0</td>\n",
       "    </tr>\n",
       "    <tr>\n",
       "      <th>255</th>\n",
       "      <td>0.000000</td>\n",
       "      <td>Medical_History_2_45.0</td>\n",
       "    </tr>\n",
       "    <tr>\n",
       "      <th>260</th>\n",
       "      <td>0.000000</td>\n",
       "      <td>Medical_History_2_51.0</td>\n",
       "    </tr>\n",
       "    <tr>\n",
       "      <th>718</th>\n",
       "      <td>0.000000</td>\n",
       "      <td>Medical_History_2_567.0</td>\n",
       "    </tr>\n",
       "    <tr>\n",
       "      <th>263</th>\n",
       "      <td>0.000000</td>\n",
       "      <td>Medical_History_2_54.0</td>\n",
       "    </tr>\n",
       "    <tr>\n",
       "      <th>320</th>\n",
       "      <td>0.000000</td>\n",
       "      <td>Medical_History_2_116.0</td>\n",
       "    </tr>\n",
       "    <tr>\n",
       "      <th>651</th>\n",
       "      <td>0.000000</td>\n",
       "      <td>Medical_History_2_492.0</td>\n",
       "    </tr>\n",
       "    <tr>\n",
       "      <th>314</th>\n",
       "      <td>0.000000</td>\n",
       "      <td>Medical_History_2_110.0</td>\n",
       "    </tr>\n",
       "    <tr>\n",
       "      <th>657</th>\n",
       "      <td>0.000000</td>\n",
       "      <td>Medical_History_2_498.0</td>\n",
       "    </tr>\n",
       "    <tr>\n",
       "      <th>308</th>\n",
       "      <td>0.000000</td>\n",
       "      <td>Medical_History_2_104.0</td>\n",
       "    </tr>\n",
       "    <tr>\n",
       "      <th>304</th>\n",
       "      <td>0.000000</td>\n",
       "      <td>Medical_History_2_99.0</td>\n",
       "    </tr>\n",
       "    <tr>\n",
       "      <th>669</th>\n",
       "      <td>0.000000</td>\n",
       "      <td>Medical_History_2_512.0</td>\n",
       "    </tr>\n",
       "    <tr>\n",
       "      <th>302</th>\n",
       "      <td>0.000000</td>\n",
       "      <td>Medical_History_2_97.0</td>\n",
       "    </tr>\n",
       "    <tr>\n",
       "      <th>674</th>\n",
       "      <td>0.000000</td>\n",
       "      <td>Medical_History_2_517.0</td>\n",
       "    </tr>\n",
       "    <tr>\n",
       "      <th>298</th>\n",
       "      <td>0.000000</td>\n",
       "      <td>Medical_History_2_93.0</td>\n",
       "    </tr>\n",
       "    <tr>\n",
       "      <th>676</th>\n",
       "      <td>0.000000</td>\n",
       "      <td>Medical_History_2_519.0</td>\n",
       "    </tr>\n",
       "    <tr>\n",
       "      <th>677</th>\n",
       "      <td>0.000000</td>\n",
       "      <td>Medical_History_2_520.0</td>\n",
       "    </tr>\n",
       "    <tr>\n",
       "      <th>681</th>\n",
       "      <td>0.000000</td>\n",
       "      <td>Medical_History_2_525.0</td>\n",
       "    </tr>\n",
       "    <tr>\n",
       "      <th>291</th>\n",
       "      <td>0.000000</td>\n",
       "      <td>Medical_History_2_85.0</td>\n",
       "    </tr>\n",
       "    <tr>\n",
       "      <th>687</th>\n",
       "      <td>0.000000</td>\n",
       "      <td>Medical_History_2_531.0</td>\n",
       "    </tr>\n",
       "    <tr>\n",
       "      <th>283</th>\n",
       "      <td>0.000000</td>\n",
       "      <td>Medical_History_2_75.0</td>\n",
       "    </tr>\n",
       "    <tr>\n",
       "      <th>482</th>\n",
       "      <td>0.000000</td>\n",
       "      <td>Medical_History_2_296.0</td>\n",
       "    </tr>\n",
       "    <tr>\n",
       "      <th>702</th>\n",
       "      <td>0.000000</td>\n",
       "      <td>Medical_History_2_549.0</td>\n",
       "    </tr>\n",
       "    <tr>\n",
       "      <th>274</th>\n",
       "      <td>0.000000</td>\n",
       "      <td>Medical_History_2_66.0</td>\n",
       "    </tr>\n",
       "    <tr>\n",
       "      <th>708</th>\n",
       "      <td>0.000000</td>\n",
       "      <td>Medical_History_2_557.0</td>\n",
       "    </tr>\n",
       "    <tr>\n",
       "      <th>709</th>\n",
       "      <td>0.000000</td>\n",
       "      <td>Medical_History_2_558.0</td>\n",
       "    </tr>\n",
       "    <tr>\n",
       "      <th>711</th>\n",
       "      <td>0.000000</td>\n",
       "      <td>Medical_History_2_560.0</td>\n",
       "    </tr>\n",
       "    <tr>\n",
       "      <th>713</th>\n",
       "      <td>0.000000</td>\n",
       "      <td>Medical_History_2_562.0</td>\n",
       "    </tr>\n",
       "    <tr>\n",
       "      <th>894</th>\n",
       "      <td>0.000000</td>\n",
       "      <td>Medical_History_41_nan</td>\n",
       "    </tr>\n",
       "  </tbody>\n",
       "</table>\n",
       "<p>895 rows × 2 columns</p>\n",
       "</div>"
      ],
      "text/plain": [
       "     Importance                 features\n",
       "4      0.071030                      BMI\n",
       "3      0.054249                       Wt\n",
       "0      0.033050           Product_Info_4\n",
       "1      0.032501                  Ins_Age\n",
       "5      0.030384        Employment_Info_1\n",
       "2      0.028230                       Ht\n",
       "15     0.026393       Medical_History_15\n",
       "7      0.025887        Employment_Info_6\n",
       "13     0.025419        Medical_History_1\n",
       "11     0.025306            Family_Hist_4\n",
       "797    0.021992    Medical_History_4_2.0\n",
       "10     0.021232            Family_Hist_3\n",
       "9      0.020657            Family_Hist_2\n",
       "8      0.018782      Insurance_History_5\n",
       "847    0.018759   Medical_History_23_3.0\n",
       "12     0.016689            Family_Hist_5\n",
       "32     0.014149       Medical_Keyword_15\n",
       "188    0.010224        InsuredInfo_6_2.0\n",
       "179    0.008945        InsuredInfo_3_8.0\n",
       "893    0.008770   Medical_History_41_3.0\n",
       "6      0.008586        Employment_Info_4\n",
       "134    0.008492    Employment_Info_2_9.0\n",
       "174    0.008397        InsuredInfo_3_3.0\n",
       "20     0.007424        Medical_Keyword_3\n",
       "316    0.007403  Medical_History_2_112.0\n",
       "177    0.007346        InsuredInfo_3_6.0\n",
       "213    0.007329        Family_Hist_1_3.0\n",
       "212    0.007309        Family_Hist_1_2.0\n",
       "811    0.007288    Medical_History_9_2.0\n",
       "83     0.007072        Product_Info_2_D3\n",
       "..          ...                      ...\n",
       "197    0.000000  Insurance_History_3_2.0\n",
       "782    0.000000  Medical_History_2_638.0\n",
       "255    0.000000   Medical_History_2_45.0\n",
       "260    0.000000   Medical_History_2_51.0\n",
       "718    0.000000  Medical_History_2_567.0\n",
       "263    0.000000   Medical_History_2_54.0\n",
       "320    0.000000  Medical_History_2_116.0\n",
       "651    0.000000  Medical_History_2_492.0\n",
       "314    0.000000  Medical_History_2_110.0\n",
       "657    0.000000  Medical_History_2_498.0\n",
       "308    0.000000  Medical_History_2_104.0\n",
       "304    0.000000   Medical_History_2_99.0\n",
       "669    0.000000  Medical_History_2_512.0\n",
       "302    0.000000   Medical_History_2_97.0\n",
       "674    0.000000  Medical_History_2_517.0\n",
       "298    0.000000   Medical_History_2_93.0\n",
       "676    0.000000  Medical_History_2_519.0\n",
       "677    0.000000  Medical_History_2_520.0\n",
       "681    0.000000  Medical_History_2_525.0\n",
       "291    0.000000   Medical_History_2_85.0\n",
       "687    0.000000  Medical_History_2_531.0\n",
       "283    0.000000   Medical_History_2_75.0\n",
       "482    0.000000  Medical_History_2_296.0\n",
       "702    0.000000  Medical_History_2_549.0\n",
       "274    0.000000   Medical_History_2_66.0\n",
       "708    0.000000  Medical_History_2_557.0\n",
       "709    0.000000  Medical_History_2_558.0\n",
       "711    0.000000  Medical_History_2_560.0\n",
       "713    0.000000  Medical_History_2_562.0\n",
       "894    0.000000   Medical_History_41_nan\n",
       "\n",
       "[895 rows x 2 columns]"
      ]
     },
     "execution_count": 84,
     "metadata": {},
     "output_type": "execute_result"
    }
   ],
   "source": [
    "fi.sort('Importance', ascending=False)"
   ]
  },
  {
   "cell_type": "code",
   "execution_count": null,
   "metadata": {
    "collapsed": true
   },
   "outputs": [],
   "source": [
    "param = {\"n_estimators\": [10,100,200], \"min_samples_leaf\":[1,5,7]}\n",
    "grid = GridSearchCV(rf,param)\n",
    "grid.fit(X,y)"
   ]
  },
  {
   "cell_type": "code",
   "execution_count": null,
   "metadata": {
    "collapsed": true
   },
   "outputs": [],
   "source": []
  }
 ],
 "metadata": {
  "kernelspec": {
   "display_name": "Python 2",
   "language": "python",
   "name": "python2"
  }
 },
 "nbformat": 4,
 "nbformat_minor": 0
}
